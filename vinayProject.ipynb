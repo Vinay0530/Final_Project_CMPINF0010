{
 "cells": [
  {
   "cell_type": "markdown",
   "metadata": {},
   "source": [
    "#### Importing pandas "
   ]
  },
  {
   "cell_type": "code",
   "execution_count": 32,
   "metadata": {
    "jupyter": {
     "source_hidden": true
    }
   },
   "outputs": [],
   "source": [
    "import pandas as pd"
   ]
  },
  {
   "cell_type": "markdown",
   "metadata": {},
   "source": [
    "#### I read the CSV file that cotains the neighborhoods in Pittsburgh with the amount of COVID-19 vaccine shots for each of them. I chose this data set because a safe neighborhood should include people with COVID-19 vaccines to prevent the disease from spreading."
   ]
  },
  {
   "cell_type": "code",
   "execution_count": 33,
   "metadata": {},
   "outputs": [],
   "source": [
    "covidShotsData = pd.read_csv(\"CovidShotsDataPerNeighborhood.csv\")"
   ]
  },
  {
   "cell_type": "markdown",
   "metadata": {},
   "source": [
    "#### I displayed first five rows of dataframe."
   ]
  },
  {
   "cell_type": "code",
   "execution_count": 34,
   "metadata": {},
   "outputs": [
    {
     "data": {
      "text/html": [
       "<div>\n",
       "<style scoped>\n",
       "    .dataframe tbody tr th:only-of-type {\n",
       "        vertical-align: middle;\n",
       "    }\n",
       "\n",
       "    .dataframe tbody tr th {\n",
       "        vertical-align: top;\n",
       "    }\n",
       "\n",
       "    .dataframe thead th {\n",
       "        text-align: right;\n",
       "    }\n",
       "</style>\n",
       "<table border=\"1\" class=\"dataframe\">\n",
       "  <thead>\n",
       "    <tr style=\"text-align: right;\">\n",
       "      <th></th>\n",
       "      <th>neighborhood_municipality</th>\n",
       "      <th>total_partially_vaccinated</th>\n",
       "      <th>total_fully_vaccinated</th>\n",
       "      <th>total_fully_vaccinated_w_booster</th>\n",
       "    </tr>\n",
       "  </thead>\n",
       "  <tbody>\n",
       "    <tr>\n",
       "      <th>0</th>\n",
       "      <td>Bradford Woods</td>\n",
       "      <td>92</td>\n",
       "      <td>433</td>\n",
       "      <td>523</td>\n",
       "    </tr>\n",
       "    <tr>\n",
       "      <th>1</th>\n",
       "      <td>North Fayette</td>\n",
       "      <td>984</td>\n",
       "      <td>4577</td>\n",
       "      <td>3759</td>\n",
       "    </tr>\n",
       "    <tr>\n",
       "      <th>2</th>\n",
       "      <td>Garfield (Pittsburgh)</td>\n",
       "      <td>359</td>\n",
       "      <td>1139</td>\n",
       "      <td>1071</td>\n",
       "    </tr>\n",
       "    <tr>\n",
       "      <th>3</th>\n",
       "      <td>Forward</td>\n",
       "      <td>81</td>\n",
       "      <td>468</td>\n",
       "      <td>425</td>\n",
       "    </tr>\n",
       "    <tr>\n",
       "      <th>4</th>\n",
       "      <td>Pine</td>\n",
       "      <td>1358</td>\n",
       "      <td>4930</td>\n",
       "      <td>5143</td>\n",
       "    </tr>\n",
       "  </tbody>\n",
       "</table>\n",
       "</div>"
      ],
      "text/plain": [
       "  neighborhood_municipality  total_partially_vaccinated  \\\n",
       "0            Bradford Woods                          92   \n",
       "1             North Fayette                         984   \n",
       "2     Garfield (Pittsburgh)                         359   \n",
       "3                   Forward                          81   \n",
       "4                      Pine                        1358   \n",
       "\n",
       "   total_fully_vaccinated  total_fully_vaccinated_w_booster  \n",
       "0                     433                               523  \n",
       "1                    4577                              3759  \n",
       "2                    1139                              1071  \n",
       "3                     468                               425  \n",
       "4                    4930                              5143  "
      ]
     },
     "execution_count": 34,
     "metadata": {},
     "output_type": "execute_result"
    }
   ],
   "source": [
    "covidShotsData.head()"
   ]
  },
  {
   "cell_type": "markdown",
   "metadata": {},
   "source": [
    "#### I displayed the top 15 neigborhoods with the least amount of totally fully vaccinated people with booster shots. I also decided to only consider data from the total_fully_vaccinated_w_booster column for each of the neighborhoods for my metric."
   ]
  },
  {
   "cell_type": "code",
   "execution_count": 35,
   "metadata": {},
   "outputs": [
    {
     "data": {
      "text/html": [
       "<div>\n",
       "<style scoped>\n",
       "    .dataframe tbody tr th:only-of-type {\n",
       "        vertical-align: middle;\n",
       "    }\n",
       "\n",
       "    .dataframe tbody tr th {\n",
       "        vertical-align: top;\n",
       "    }\n",
       "\n",
       "    .dataframe thead th {\n",
       "        text-align: right;\n",
       "    }\n",
       "</style>\n",
       "<table border=\"1\" class=\"dataframe\">\n",
       "  <thead>\n",
       "    <tr style=\"text-align: right;\">\n",
       "      <th></th>\n",
       "      <th>neighborhood_municipality</th>\n",
       "      <th>total_partially_vaccinated</th>\n",
       "      <th>total_fully_vaccinated</th>\n",
       "      <th>total_fully_vaccinated_w_booster</th>\n",
       "    </tr>\n",
       "  </thead>\n",
       "  <tbody>\n",
       "    <tr>\n",
       "      <th>67</th>\n",
       "      <td>Mcdonald</td>\n",
       "      <td>2</td>\n",
       "      <td>1</td>\n",
       "      <td>0</td>\n",
       "    </tr>\n",
       "    <tr>\n",
       "      <th>86</th>\n",
       "      <td>Trafford</td>\n",
       "      <td>0</td>\n",
       "      <td>2</td>\n",
       "      <td>3</td>\n",
       "    </tr>\n",
       "    <tr>\n",
       "      <th>44</th>\n",
       "      <td>Chateau (Pittsburgh)</td>\n",
       "      <td>8</td>\n",
       "      <td>24</td>\n",
       "      <td>14</td>\n",
       "    </tr>\n",
       "    <tr>\n",
       "      <th>191</th>\n",
       "      <td>Haysville</td>\n",
       "      <td>3</td>\n",
       "      <td>22</td>\n",
       "      <td>21</td>\n",
       "    </tr>\n",
       "    <tr>\n",
       "      <th>98</th>\n",
       "      <td>Arlington Heights (Pittsburgh)</td>\n",
       "      <td>23</td>\n",
       "      <td>63</td>\n",
       "      <td>24</td>\n",
       "    </tr>\n",
       "    <tr>\n",
       "      <th>84</th>\n",
       "      <td>Undefined (Pittsburgh)</td>\n",
       "      <td>4</td>\n",
       "      <td>24</td>\n",
       "      <td>25</td>\n",
       "    </tr>\n",
       "    <tr>\n",
       "      <th>32</th>\n",
       "      <td>St. Clair (Pittsburgh)</td>\n",
       "      <td>27</td>\n",
       "      <td>81</td>\n",
       "      <td>43</td>\n",
       "    </tr>\n",
       "    <tr>\n",
       "      <th>95</th>\n",
       "      <td>Esplen (Pittsburgh)</td>\n",
       "      <td>19</td>\n",
       "      <td>82</td>\n",
       "      <td>53</td>\n",
       "    </tr>\n",
       "    <tr>\n",
       "      <th>78</th>\n",
       "      <td>West End (Pittsburgh)</td>\n",
       "      <td>28</td>\n",
       "      <td>84</td>\n",
       "      <td>58</td>\n",
       "    </tr>\n",
       "    <tr>\n",
       "      <th>144</th>\n",
       "      <td>South Shore (Pittsburgh)</td>\n",
       "      <td>66</td>\n",
       "      <td>109</td>\n",
       "      <td>63</td>\n",
       "    </tr>\n",
       "    <tr>\n",
       "      <th>171</th>\n",
       "      <td>Glenfield</td>\n",
       "      <td>22</td>\n",
       "      <td>64</td>\n",
       "      <td>64</td>\n",
       "    </tr>\n",
       "    <tr>\n",
       "      <th>77</th>\n",
       "      <td>South Versailles</td>\n",
       "      <td>17</td>\n",
       "      <td>109</td>\n",
       "      <td>77</td>\n",
       "    </tr>\n",
       "    <tr>\n",
       "      <th>139</th>\n",
       "      <td>West Elizabeth</td>\n",
       "      <td>22</td>\n",
       "      <td>143</td>\n",
       "      <td>84</td>\n",
       "    </tr>\n",
       "    <tr>\n",
       "      <th>219</th>\n",
       "      <td>Hays (Pittsburgh)</td>\n",
       "      <td>26</td>\n",
       "      <td>120</td>\n",
       "      <td>88</td>\n",
       "    </tr>\n",
       "    <tr>\n",
       "      <th>9</th>\n",
       "      <td>North Shore (Pittsburgh)</td>\n",
       "      <td>56</td>\n",
       "      <td>157</td>\n",
       "      <td>96</td>\n",
       "    </tr>\n",
       "  </tbody>\n",
       "</table>\n",
       "</div>"
      ],
      "text/plain": [
       "          neighborhood_municipality  total_partially_vaccinated  \\\n",
       "67                         Mcdonald                           2   \n",
       "86                         Trafford                           0   \n",
       "44             Chateau (Pittsburgh)                           8   \n",
       "191                       Haysville                           3   \n",
       "98   Arlington Heights (Pittsburgh)                          23   \n",
       "84           Undefined (Pittsburgh)                           4   \n",
       "32           St. Clair (Pittsburgh)                          27   \n",
       "95              Esplen (Pittsburgh)                          19   \n",
       "78            West End (Pittsburgh)                          28   \n",
       "144        South Shore (Pittsburgh)                          66   \n",
       "171                       Glenfield                          22   \n",
       "77                 South Versailles                          17   \n",
       "139                  West Elizabeth                          22   \n",
       "219               Hays (Pittsburgh)                          26   \n",
       "9          North Shore (Pittsburgh)                          56   \n",
       "\n",
       "     total_fully_vaccinated  total_fully_vaccinated_w_booster  \n",
       "67                        1                                 0  \n",
       "86                        2                                 3  \n",
       "44                       24                                14  \n",
       "191                      22                                21  \n",
       "98                       63                                24  \n",
       "84                       24                                25  \n",
       "32                       81                                43  \n",
       "95                       82                                53  \n",
       "78                       84                                58  \n",
       "144                     109                                63  \n",
       "171                      64                                64  \n",
       "77                      109                                77  \n",
       "139                     143                                84  \n",
       "219                     120                                88  \n",
       "9                       157                                96  "
      ]
     },
     "execution_count": 35,
     "metadata": {},
     "output_type": "execute_result"
    }
   ],
   "source": [
    "covidShotsData.sort_values('total_fully_vaccinated_w_booster').head(15)"
   ]
  },
  {
   "cell_type": "markdown",
   "metadata": {},
   "source": [
    "#### I displayed the top 15 neigborhoods with the most amount of totally fully vaccinated people with booster shots."
   ]
  },
  {
   "cell_type": "code",
   "execution_count": 36,
   "metadata": {},
   "outputs": [
    {
     "data": {
      "text/html": [
       "<div>\n",
       "<style scoped>\n",
       "    .dataframe tbody tr th:only-of-type {\n",
       "        vertical-align: middle;\n",
       "    }\n",
       "\n",
       "    .dataframe tbody tr th {\n",
       "        vertical-align: top;\n",
       "    }\n",
       "\n",
       "    .dataframe thead th {\n",
       "        text-align: right;\n",
       "    }\n",
       "</style>\n",
       "<table border=\"1\" class=\"dataframe\">\n",
       "  <thead>\n",
       "    <tr style=\"text-align: right;\">\n",
       "      <th></th>\n",
       "      <th>neighborhood_municipality</th>\n",
       "      <th>total_partially_vaccinated</th>\n",
       "      <th>total_fully_vaccinated</th>\n",
       "      <th>total_fully_vaccinated_w_booster</th>\n",
       "    </tr>\n",
       "  </thead>\n",
       "  <tbody>\n",
       "    <tr>\n",
       "      <th>35</th>\n",
       "      <td>Scott</td>\n",
       "      <td>1428</td>\n",
       "      <td>6444</td>\n",
       "      <td>6736</td>\n",
       "    </tr>\n",
       "    <tr>\n",
       "      <th>37</th>\n",
       "      <td>Squirrel Hill South (Pittsburgh)</td>\n",
       "      <td>2395</td>\n",
       "      <td>5699</td>\n",
       "      <td>6736</td>\n",
       "    </tr>\n",
       "    <tr>\n",
       "      <th>118</th>\n",
       "      <td>Franklin Park</td>\n",
       "      <td>1363</td>\n",
       "      <td>5262</td>\n",
       "      <td>6853</td>\n",
       "    </tr>\n",
       "    <tr>\n",
       "      <th>27</th>\n",
       "      <td>Hampton</td>\n",
       "      <td>1486</td>\n",
       "      <td>6032</td>\n",
       "      <td>7865</td>\n",
       "    </tr>\n",
       "    <tr>\n",
       "      <th>87</th>\n",
       "      <td>Baldwin Borough</td>\n",
       "      <td>1362</td>\n",
       "      <td>7081</td>\n",
       "      <td>7938</td>\n",
       "    </tr>\n",
       "    <tr>\n",
       "      <th>153</th>\n",
       "      <td>Moon</td>\n",
       "      <td>2205</td>\n",
       "      <td>8967</td>\n",
       "      <td>8825</td>\n",
       "    </tr>\n",
       "    <tr>\n",
       "      <th>172</th>\n",
       "      <td>Plum</td>\n",
       "      <td>1689</td>\n",
       "      <td>8888</td>\n",
       "      <td>9437</td>\n",
       "    </tr>\n",
       "    <tr>\n",
       "      <th>168</th>\n",
       "      <td>Upper Saint Clair</td>\n",
       "      <td>1842</td>\n",
       "      <td>7253</td>\n",
       "      <td>9477</td>\n",
       "    </tr>\n",
       "    <tr>\n",
       "      <th>214</th>\n",
       "      <td>Monroeville</td>\n",
       "      <td>2400</td>\n",
       "      <td>9834</td>\n",
       "      <td>10174</td>\n",
       "    </tr>\n",
       "    <tr>\n",
       "      <th>204</th>\n",
       "      <td>Shaler</td>\n",
       "      <td>1727</td>\n",
       "      <td>8884</td>\n",
       "      <td>11623</td>\n",
       "    </tr>\n",
       "    <tr>\n",
       "      <th>151</th>\n",
       "      <td>McCandless</td>\n",
       "      <td>2282</td>\n",
       "      <td>9688</td>\n",
       "      <td>12510</td>\n",
       "    </tr>\n",
       "    <tr>\n",
       "      <th>141</th>\n",
       "      <td>Penn Hills</td>\n",
       "      <td>2766</td>\n",
       "      <td>12880</td>\n",
       "      <td>12758</td>\n",
       "    </tr>\n",
       "    <tr>\n",
       "      <th>161</th>\n",
       "      <td>Ross</td>\n",
       "      <td>2302</td>\n",
       "      <td>11155</td>\n",
       "      <td>13584</td>\n",
       "    </tr>\n",
       "    <tr>\n",
       "      <th>194</th>\n",
       "      <td>Bethel Park</td>\n",
       "      <td>2197</td>\n",
       "      <td>10691</td>\n",
       "      <td>14191</td>\n",
       "    </tr>\n",
       "    <tr>\n",
       "      <th>33</th>\n",
       "      <td>Mount Lebanon</td>\n",
       "      <td>3228</td>\n",
       "      <td>11180</td>\n",
       "      <td>16287</td>\n",
       "    </tr>\n",
       "  </tbody>\n",
       "</table>\n",
       "</div>"
      ],
      "text/plain": [
       "            neighborhood_municipality  total_partially_vaccinated  \\\n",
       "35                              Scott                        1428   \n",
       "37   Squirrel Hill South (Pittsburgh)                        2395   \n",
       "118                     Franklin Park                        1363   \n",
       "27                            Hampton                        1486   \n",
       "87                    Baldwin Borough                        1362   \n",
       "153                              Moon                        2205   \n",
       "172                              Plum                        1689   \n",
       "168                 Upper Saint Clair                        1842   \n",
       "214                       Monroeville                        2400   \n",
       "204                            Shaler                        1727   \n",
       "151                        McCandless                        2282   \n",
       "141                        Penn Hills                        2766   \n",
       "161                              Ross                        2302   \n",
       "194                       Bethel Park                        2197   \n",
       "33                      Mount Lebanon                        3228   \n",
       "\n",
       "     total_fully_vaccinated  total_fully_vaccinated_w_booster  \n",
       "35                     6444                              6736  \n",
       "37                     5699                              6736  \n",
       "118                    5262                              6853  \n",
       "27                     6032                              7865  \n",
       "87                     7081                              7938  \n",
       "153                    8967                              8825  \n",
       "172                    8888                              9437  \n",
       "168                    7253                              9477  \n",
       "214                    9834                             10174  \n",
       "204                    8884                             11623  \n",
       "151                    9688                             12510  \n",
       "141                   12880                             12758  \n",
       "161                   11155                             13584  \n",
       "194                   10691                             14191  \n",
       "33                    11180                             16287  "
      ]
     },
     "execution_count": 36,
     "metadata": {},
     "output_type": "execute_result"
    }
   ],
   "source": [
    "covidShotsData.sort_values('total_fully_vaccinated_w_booster').tail(15)"
   ]
  },
  {
   "cell_type": "markdown",
   "metadata": {},
   "source": [
    "#### I displayed a bar graph that shows the top 15 neighborhoods with the most amount of totally fully vaccinated people with booster shots."
   ]
  },
  {
   "cell_type": "code",
   "execution_count": 37,
   "metadata": {},
   "outputs": [
    {
     "data": {
      "text/plain": [
       "<matplotlib.axes._subplots.AxesSubplot at 0x7f9f89fa48b0>"
      ]
     },
     "execution_count": 37,
     "metadata": {},
     "output_type": "execute_result"
    },
    {
     "data": {
      "image/png": "[encoded data removed]",
      "text/plain": [
       "<Figure size 432x288 with 1 Axes>"
      ]
     },
     "metadata": {
      "needs_background": "light"
     },
     "output_type": "display_data"
    }
   ],
   "source": [
    "covidShotsData.set_index('neighborhood_municipality').nlargest(15, ['total_fully_vaccinated_w_booster']).plot(kind='bar')"
   ]
  },
  {
   "cell_type": "markdown",
   "metadata": {},
   "source": [
    "#### I displayed a bar graph that shows the top 5 neighborhoods with the most amount of totally fully vaccinated people with booster shots."
   ]
  },
  {
   "cell_type": "code",
   "execution_count": 38,
   "metadata": {},
   "outputs": [
    {
     "data": {
      "text/plain": [
       "<matplotlib.axes._subplots.AxesSubplot at 0x7f9f89e9a790>"
      ]
     },
     "execution_count": 38,
     "metadata": {},
     "output_type": "execute_result"
    },
    {
     "data": {
      "image/png": "[encoded data removed]",
      "text/plain": [
       "<Figure size 432x288 with 1 Axes>"
      ]
     },
     "metadata": {
      "needs_background": "light"
     },
     "output_type": "display_data"
    }
   ],
   "source": [
    "covidShotsData.set_index('neighborhood_municipality').nlargest(5, ['total_fully_vaccinated_w_booster']).plot(kind='bar')"
   ]
  },
  {
   "cell_type": "markdown",
   "metadata": {},
   "source": [
    "#### I came to the conclusion for my dataset that involved just the fully vaccinated with booster column that Mount Lebanon is the safest neighborhood. Since this neighborhood had the most amount of people that were fully vaccinated with booster shots."
   ]
  },
  {
   "cell_type": "code",
   "execution_count": null,
   "metadata": {},
   "outputs": [],
   "source": []
  }
 ],
 "metadata": {
  "kernelspec": {
   "display_name": "Python 3",
   "language": "python",
   "name": "python3"
  },
  "language_info": {
   "codemirror_mode": {
    "name": "ipython",
    "version": 3
   },
   "file_extension": ".py",
   "mimetype": "text/x-python",
   "name": "python",
   "nbconvert_exporter": "python",
   "pygments_lexer": "ipython3",
   "version": "3.8.3"
  }
 },
 "nbformat": 4,
 "nbformat_minor": 4
}
