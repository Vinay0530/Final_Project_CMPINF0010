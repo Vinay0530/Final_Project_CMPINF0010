{
 "cells": [
  {
   "cell_type": "markdown",
   "metadata": {},
   "source": [
    "1.) Add up total firearms per neighborhood (use \"total_count\")\n",
    "    1a.) Sort neighborhoods from least to most\n",
    "    1b.) Display results in a graph\n",
    "2.) Add up number of instances per neighborhood (use dictionary for number of rows per neighborhood)\n",
    "    2a.) Sort neighborhoods from least frequent to frequent\n",
    "    2b.) Display results in a graph\n",
    "3.) Compare metrics 1 and 2 to find safest neighborhoods (least frequent with least number of firearms)\n",
    "  "
   ]
  }
 ],
 "metadata": {
  "kernelspec": {
   "display_name": "Python 3",
   "language": "python",
   "name": "python3"
  },
  "language_info": {
   "codemirror_mode": {
    "name": "ipython",
    "version": 3
   },
   "file_extension": ".py",
   "mimetype": "text/x-python",
   "name": "python",
   "nbconvert_exporter": "python",
   "pygments_lexer": "ipython3",
   "version": "3.8.3"
  }
 },
 "nbformat": 4,
 "nbformat_minor": 4
}
